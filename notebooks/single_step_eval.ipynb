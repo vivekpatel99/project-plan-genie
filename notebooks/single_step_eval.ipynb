{
 "cells": [
  {
   "cell_type": "markdown",
   "id": "cddb2e87",
   "metadata": {},
   "source": [
    "# Evaluate Clarification Agent/subgraph"
   ]
  },
  {
   "cell_type": "code",
   "execution_count": 1,
   "id": "6e9f061d",
   "metadata": {},
   "outputs": [],
   "source": [
    "# enable reloading\n",
    "%load_ext autoreload\n",
    "# all the modules should be reloaded before executing the code\n",
    "%autoreload 2"
   ]
  },
  {
   "cell_type": "code",
   "execution_count": null,
   "id": "e2eabd31",
   "metadata": {},
   "outputs": [
    {
     "name": "stderr",
     "output_type": "stream",
     "text": [
      "\u001b[32m2025-07-25 12:03:55.518\u001b[0m | \u001b[1mINFO    \u001b[0m | \u001b[36msrc.agent.researcher_agent\u001b[0m:\u001b[36m<module>\u001b[0m:\u001b[36m236\u001b[0m - \u001b[1mResearch agent subgraph initialized.\u001b[0m\n",
      "\u001b[32m2025-07-25 12:03:55.527\u001b[0m | \u001b[1mINFO    \u001b[0m | \u001b[36msrc.agent.researcher_agent\u001b[0m:\u001b[36m<module>\u001b[0m:\u001b[36m247\u001b[0m - \u001b[1mResearch agent subgraph compiled.\u001b[0m\n",
      "\u001b[32m2025-07-25 12:03:55.527\u001b[0m | \u001b[1mINFO    \u001b[0m | \u001b[36msrc.agent.supervisor_agent\u001b[0m:\u001b[36m<module>\u001b[0m:\u001b[36m197\u001b[0m - \u001b[1mSupervisor agent subgraph initialized.\u001b[0m\n",
      "\u001b[32m2025-07-25 12:03:55.534\u001b[0m | \u001b[1mINFO    \u001b[0m | \u001b[36msrc.agent.supervisor_agent\u001b[0m:\u001b[36m<module>\u001b[0m:\u001b[36m203\u001b[0m - \u001b[1mSupervisor agent subgraph compiled.\u001b[0m\n"
     ]
    }
   ],
   "source": [
    "from pathlib import Path\n",
    "\n",
    "# try:\n",
    "#     from .configuration import Configuration\n",
    "#     from .prompts import COMPRESS_RESEARCH_SIMPLE_HUMAN_MESSAGE, COMPRESS_RESEARCH_SYSTEM_PROMPT\n",
    "#     from .states import ResearcherOutputState, ResearchState\n",
    "#     from .utils import execute_tool_safely, get_all_tools, openai_websearch_called\n",
    "# except ImportError:\n",
    "import rootutils\n",
    "from langchain_core.messages import HumanMessage\n",
    "from langsmith import Client\n",
    "\n",
    "rootutils.setup_root(search_from=str(Path.cwd().parent), indicator=[\".git\", \"pyproject.toml\"], pythonpath=True)\n",
    "from src.agent.project_planning_genie import project_planning_genie  # noqa: E402\n"
   ]
  },
  {
   "cell_type": "code",
   "execution_count": 3,
   "id": "44155fec",
   "metadata": {},
   "outputs": [],
   "source": [
    "# {\n",
    "#     \"inputs\": {\"question\": \"what's an agent\"},\n",
    "#     \"outputs\": {\"answer\": \"an agent is...\"},\n",
    "#     \"metadata\": {\"difficulty\": \"easy\"},\n",
    "# },"
   ]
  },
  {
   "cell_type": "code",
   "execution_count": 4,
   "id": "76662efa",
   "metadata": {},
   "outputs": [],
   "source": []
  },
  {
   "cell_type": "code",
   "execution_count": null,
   "id": "e3d05631",
   "metadata": {},
   "outputs": [],
   "source": [
    "# clarification_examples = [\n",
    "#     {\n",
    "#         \"inputs\": {\n",
    "#             \"messages\": [\n",
    "#                 {\n",
    "#                     \"role\": \"user\",\n",
    "#                     \"content\": \"create plan to develop Agentic AI note taking app using langgraph for my personal use (personal project for fun and learning) and i also want to show off my skills to my potential interviewer to get hire\",\n",
    "#                 }\n",
    "#             ],\n",
    "#         },\n",
    "#         \"outputs\": {\"route\": \"__end__\"},\n",
    "#     },\n",
    "#     {\n",
    "#         \"inputs\": {\n",
    "#             \"messages\": [\n",
    "#                 {\n",
    "#                     \"role\": \"user\",\n",
    "#                     \"content\": \"create plan to develop creating an Agentic system that can take url as input and store CV in long term memory and generate cover letter and adapted CV.\",\n",
    "#                 }\n",
    "#             ],\n",
    "#         },\n",
    "#         \"outputs\": {\"route\": \"__end__\"},\n",
    "#     },\n",
    "#     {\n",
    "#         \"inputs\": {\n",
    "#             \"messages\": [\n",
    "#                 {\n",
    "#                     \"role\": \"user\",\n",
    "#                     \"content\": \"create plan to develop Agentic AI note taking app using langgraph for my personal use (personal project for fun and learning) and i also want to show off my skills to my potential interviewer to get hired. it should do following \"\n",
    "#                     \"1. take pictures of hand-written notes \"\n",
    "#                     \"2. it will automatically format the hand-written notes (it might contains equations and block diagrams) \"\n",
    "#                     \"3. find proper section (if section found then create sub page or create a new page) in my notion \"\n",
    "#                     \"4. add this notes with proper format\"\n",
    "#                     \"5. i want to use LangGraph's pre-build UI for interaction from PC\"\n",
    "#                     \"6. for MVP (which can convert image to text and format it properly) in 2 weeks\"\n",
    "#                     \"7. I am also thinking to use multi agent system one agent for image to text conversion and 2nd agent for text to notion or formatting (markdown)\",\n",
    "#                 }\n",
    "#             ],\n",
    "#         },\n",
    "#         \"outputs\": {\"route\": \"write_research_brief\"},\n",
    "#     },\n",
    "# ]\n",
    "\n",
    "#   \"create plan to develop Agentic AI note taking app using langgraph for my personal use (personal project for fun and learning) and i also want to show off my skills to my potential interviewer to get hired. it should do following \"\n",
    "#             \"* take pictures of hand-written notes \"\n",
    "#             \"* it will automatically format the hand-written notes (it might contains equations and block diagrams) \"\n",
    "#             \"* find proper section (if section found then create sub page or create a new page) in my notion \"\n",
    "#             \"* add this notes with proper format\"\n",
    "#             \"* i want to use LangGraph's pre-build UI for interaction from PC, i think it is perfect for my need, here is the link for more information 'https://docs.oap.langchain.com/quickstart'\"\n",
    "#             \"* for MVP (which can convert image to text and format it properly) in 2 weeks\"\n",
    "#             \"* I am also thinking to use multi agent system one agent for image to text conversion and 2nd agent for text to notion or formatting (markdown) in langgraph, here is documentation link for more information about langgraph 'https://langchain-ai.github.io/langgraph/concepts/why-langgraph/'\"\n",
    "#             \"you should search for best open source OCR models for handwritten digit recognition and also best model from the api provider/model such as openai or claude or gemini\"\n",
    "#             \"* i want to use python as main language for this project\","
   ]
  },
  {
   "cell_type": "code",
   "execution_count": null,
   "id": "e26cb91a",
   "metadata": {},
   "outputs": [],
   "source": [
    "clarification_examples = [\n",
    "    {\n",
    "        \"inputs\": {\n",
    "            \"messages\": [\n",
    "                \"create plan to develop Agentic AI note taking app using langgraph for my personal use (personal project for fun and learning) and i also want to show off my skills to my potential interviewer to get hire\",\n",
    "            ],\n",
    "        },\n",
    "        \"outputs\": {\"route\": \"__end__\"},\n",
    "    },\n",
    "    {\n",
    "        \"inputs\": {\n",
    "            \"messages\": [\n",
    "                \"create plan to develop creating an Agentic system that can take url as input and store CV in long term memory and generate cover letter and adapted CV.\",\n",
    "            ],\n",
    "        },\n",
    "        \"outputs\": {\"route\": \"__end__\"},\n",
    "    },\n",
    "    {\n",
    "        \"inputs\": {\n",
    "            \"messages\": [\n",
    "                \"\"\" Project Overview\n",
    "Develop an agent-powered AI note-taking app using LangGraph, designed for personal productivity and as a demonstration of your skills in computer vision, multi-agent systems, and end-to-end AI engineering. The app will facilitate capturing handwritten notes, automatically formatting them (including complex content like equations and diagrams), classifying content into the correct Notion section, and uploading the processed notes with rich formatting. The goal is to implement a Minimum Viable Product (MVP) capable of image-to-text conversion and formatting within two weeks.\n",
    "\n",
    "Core Features\n",
    "Image Capture:\n",
    "Capture pictures of handwritten notes via a user interface (LangGraph's prebuilt UI, accessible from PC).\n",
    "Handwriting Recognition:\n",
    "Automatically extract typed text (including digits, equations, and diagrams) from handwritten pictures using cutting-edge OCR.\n",
    "Formatting & Structuring:\n",
    "Clean and format extracted notes (markdown, LaTeX for equations, code blocks, etc.).\n",
    "Detect and separate sections; classify content to either add as a new Notion sub-page/page or merge with an existing page.\n",
    "Integration with Notion:\n",
    "Upload formatted notes programmatically into Notion, preserving structure and style.\n",
    "Agentic Orchestration:\n",
    "Use a multi-agent system in LangGraph for more information -'https://docs.oap.langchain.com/quickstart':\n",
    "Agent 1: Image-to-text extraction (OCR, diagram/equation recognition)\n",
    "Agent 2: Text cleanup, markdown formatting, and Notion posting\n",
    "PC Interaction:\n",
    "Leverage LangGraph's prebuilt UI for smooth agent interaction from a PC browser, more information about open agent platform for ui 'https://docs.oap.langchain.com/quickstart'.\n",
    "Python First:\n",
    "Entire codebase written in Python, using established libraries for AI, vision, and web connectivity. \"\"\",\n",
    "            ],\n",
    "        },\n",
    "        \"outputs\": {\"route\": \"write_research_brief\"},\n",
    "    },\n",
    "]\n"
   ]
  },
  {
   "cell_type": "markdown",
   "id": "eeb52cb1",
   "metadata": {},
   "source": [
    "## Create Datasets"
   ]
  },
  {
   "cell_type": "code",
   "execution_count": 7,
   "id": "55a31c31",
   "metadata": {},
   "outputs": [],
   "source": [
    "client = Client()\n",
    "dataset_name = \"test1\"\n",
    "dataset_id = \"06c15259-304c-4560-83da-1be3d9545a72\"\n",
    "if not client.has_dataset(dataset_name=dataset_name):\n",
    "    dataset = client.create_dataset(dataset_name)\n",
    "    client.create_examples(\n",
    "        dataset_id=dataset.id,\n",
    "        examples=clarification_examples,\n",
    "    )"
   ]
  },
  {
   "cell_type": "markdown",
   "id": "6273677b",
   "metadata": {},
   "source": [
    "**Define Specific Logic to Evaluate Clarification Agent/subgraph**"
   ]
  },
  {
   "cell_type": "code",
   "execution_count": 8,
   "id": "e1773f4c",
   "metadata": {},
   "outputs": [],
   "source": [
    "async def run_intent_node(inputs: dict):\n",
    "    commad = await project_planning_genie.nodes[\"clarify_with_user\"].ainvoke(\n",
    "        {\"messages\": [HumanMessage(m) for m in inputs[\"messages\"]]},\n",
    "    )\n",
    "    return {\"route\": commad.goto}"
   ]
  },
  {
   "cell_type": "code",
   "execution_count": 9,
   "id": "1e0fa292",
   "metadata": {},
   "outputs": [],
   "source": [
    "# Evaluator\n",
    "def correct(outputs: dict, reference_outputs: dict) -> bool:\n",
    "    \"\"\"Check if the agent chose the correct route.\"\"\"\n",
    "    return outputs[\"route\"] == reference_outputs[\"route\"]\n"
   ]
  },
  {
   "cell_type": "code",
   "execution_count": 10,
   "id": "9aa74336",
   "metadata": {},
   "outputs": [],
   "source": [
    "# from langsmith import Client\n",
    "\n",
    "# client = Client()\n",
    "# experiment_results = await client.aevaluate(\n",
    "#     run_intent_node, data=dataset_name, evaluators=[correct], experiment_prefix=\"test\", max_concurrency=1\n",
    "# )\n",
    "# experiment_results"
   ]
  },
  {
   "cell_type": "code",
   "execution_count": null,
   "id": "de98ba47",
   "metadata": {},
   "outputs": [],
   "source": []
  },
  {
   "cell_type": "code",
   "execution_count": 11,
   "id": "8fd67882",
   "metadata": {},
   "outputs": [],
   "source": [
    "# experiment_results.to_pandas()"
   ]
  },
  {
   "cell_type": "code",
   "execution_count": null,
   "id": "7c8e2995",
   "metadata": {},
   "outputs": [],
   "source": [
    "# async for event in project_planning_genie.astream(\n",
    "#     {\n",
    "#         \"messages\": [\n",
    "#             # HumanMessage(\n",
    "#             #     content=\"create plan to develop Agentic AI note taking app using langgraph for my personal use (personal project for fun and learning) and i also want to show off my skills to my potential interviewer to get hire\"\n",
    "#             # )\n",
    "#             {\n",
    "#                 \"role\": \"user\",\n",
    "#                 \"content\": \"\"\"  Project Overview\n",
    "# Develop an agent-powered AI note-taking app using LangGraph, designed for personal productivity and as a demonstration of your skills in computer vision, multi-agent systems, and end-to-end AI engineering. The app will facilitate capturing handwritten notes, automatically formatting them (including complex content like equations and diagrams), classifying content into the correct Notion section, and uploading the processed notes with rich formatting. The goal is to implement a Minimum Viable Product (MVP) capable of image-to-text conversion and formatting within two weeks.\n",
    "\n",
    "# Core Features\n",
    "# Image Capture:\n",
    "# Capture pictures of handwritten notes via a user interface (LangGraph's prebuilt UI, accessible from PC).\n",
    "# Handwriting Recognition:\n",
    "# Automatically extract typed text (including digits, equations, and diagrams) from handwritten pictures using cutting-edge OCR.\n",
    "# Formatting & Structuring:\n",
    "# Clean and format extracted notes (markdown, LaTeX for equations, code blocks, etc.).\n",
    "# Detect and separate sections; classify content to either add as a new Notion sub-page/page or merge with an existing page.\n",
    "# Integration with Notion:\n",
    "# Upload formatted notes programmatically into Notion, preserving structure and style.\n",
    "# Agentic Orchestration:\n",
    "# Use a multi-agent system in LangGraph for more information -'https://docs.oap.langchain.com/quickstart':\n",
    "# Agent 1: Image-to-text extraction (OCR, diagram/equation recognition)\n",
    "# Agent 2: Text cleanup, markdown formatting, and Notion posting\n",
    "# PC Interaction:\n",
    "# Leverage LangGraph's prebuilt UI for smooth agent interaction from a PC browser, more information about open agent platform for ui 'https://docs.oap.langchain.com/quickstart'.\n",
    "# Python First:\n",
    "# Entire codebase written in Python, using established libraries for AI, vision, and web connectivity.  \"\"\",\n",
    "#             },\n",
    "#         ],\n",
    "#     },\n",
    "#     stream_mode=\"update\",\n",
    "# ):\n",
    "# print(event)\n"
   ]
  }
 ],
 "metadata": {
  "kernelspec": {
   "display_name": "project-planning-genie",
   "language": "python",
   "name": "python3"
  },
  "language_info": {
   "codemirror_mode": {
    "name": "ipython",
    "version": 3
   },
   "file_extension": ".py",
   "mimetype": "text/x-python",
   "name": "python",
   "nbconvert_exporter": "python",
   "pygments_lexer": "ipython3",
   "version": "3.13.2"
  }
 },
 "nbformat": 4,
 "nbformat_minor": 5
}
