{
 "cells": [
  {
   "cell_type": "code",
   "execution_count": null,
   "id": "ca9473c8",
   "metadata": {},
   "outputs": [
    {
     "name": "stdout",
     "output_type": "stream",
     "text": [
      "{'agent': {'messages': [AIMessage(content='<think>\\nOkay, the user is asking for the weather in SF. SF stands for San Francisco. I need to use the get_weather function. The function requires the city parameter. So I should call get_weather with city set to \"San Francisco\". Let me make sure there\\'s no typo. Yep, that\\'s correct. Alright, time to format the tool call.\\n</think>\\n\\n', additional_kwargs={}, response_metadata={'model': 'qwen3:8b', 'created_at': '2025-08-16T12:04:10.002851119Z', 'done': True, 'done_reason': 'stop', 'total_duration': 7453053489, 'load_duration': 6104149272, 'prompt_eval_count': 143, 'prompt_eval_duration': 186895094, 'eval_count': 97, 'eval_duration': 1161415069, 'model_name': 'qwen3:8b'}, id='run--6f8a2e87-16d6-4ab2-a183-3c024d4175e9-0', tool_calls=[{'name': 'get_weather', 'args': {'city': 'San Francisco'}, 'id': '86c05b3a-a3c4-43d4-b08f-9131fff50d54', 'type': 'tool_call'}], usage_metadata={'input_tokens': 143, 'output_tokens': 97, 'total_tokens': 240})]}}\n",
      "\n",
      "\n",
      "{'tools': {'messages': [ToolMessage(content=\"It's always sunny in San Francisco!\", name='get_weather', id='632857c3-2613-4276-aea0-61bde622c424', tool_call_id='86c05b3a-a3c4-43d4-b08f-9131fff50d54')]}}\n",
      "\n",
      "\n",
      "{'agent': {'messages': [AIMessage(content='<think>\\n</think>\\n\\nThe weather in San Francisco is currently sunny! 🌞 Let me know if you need more details.', additional_kwargs={}, response_metadata={'model': 'qwen3:8b', 'created_at': '2025-08-16T12:05:04.700952647Z', 'done': True, 'done_reason': 'stop', 'total_duration': 398265304, 'load_duration': 27574599, 'prompt_eval_count': 240, 'prompt_eval_duration': 38347891, 'eval_count': 26, 'eval_duration': 320459904, 'model_name': 'qwen3:8b'}, id='run--38acb4c2-7dbc-473b-b364-0e762fa552a1-0', usage_metadata={'input_tokens': 240, 'output_tokens': 26, 'total_tokens': 266})]}}\n",
      "\n",
      "\n"
     ]
    }
   ],
   "source": [
    "from langgraph.config import get_stream_writer\n",
    "from langgraph.prebuilt import create_react_agent\n",
    "\n",
    "\n",
    "def get_weather(city: str) -> str:\n",
    "    \"\"\"Get weather for a given city.\"\"\"\n",
    "    writer = get_stream_writer()\n",
    "    # stream any arbitrary data\n",
    "    writer(f\"Looking up data for city: {city}\")\n",
    "    return f\"It's always sunny in {city}!\"\n",
    "\n",
    "\n",
    "agent = create_react_agent(\n",
    "    model=\"ollama:qwen3:8b\",\n",
    "    tools=[get_weather],\n",
    ")\n",
    "async for chunk in agent.astream(\n",
    "    {\"messages\": [{\"role\": \"user\", \"content\": \"what is the weather in sf\"}]}, stream_mode=\"updates\"\n",
    "):\n",
    "    print(chunk)\n",
    "    print(\"\\n\")\n"
   ]
  },
  {
   "cell_type": "code",
   "execution_count": null,
   "id": "7945ed4b",
   "metadata": {},
   "outputs": [],
   "source": [
    "async for token, metadata in agent.astream(\n",
    "    {\"messages\": [{\"role\": \"user\", \"content\": \"what is the weather in sf\"}]}, stream_mode=\"messages\"\n",
    "):\n",
    "    print(\"Token\", token)\n",
    "    print(\"Metadata\", metadata)\n",
    "    print(\"\\n\")\n"
   ]
  }
 ],
 "metadata": {
  "kernelspec": {
   "display_name": "project-planning-genie",
   "language": "python",
   "name": "python3"
  },
  "language_info": {
   "codemirror_mode": {
    "name": "ipython",
    "version": 3
   },
   "file_extension": ".py",
   "mimetype": "text/x-python",
   "name": "python",
   "nbconvert_exporter": "python",
   "pygments_lexer": "ipython3",
   "version": "3.13.2"
  }
 },
 "nbformat": 4,
 "nbformat_minor": 5
}
